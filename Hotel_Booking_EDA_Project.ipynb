{
  "nbformat": 4,
  "nbformat_minor": 0,
  "metadata": {
    "colab": {
      "private_outputs": true,
      "provenance": [],
      "collapsed_sections": [
        "beRrZCGUAJYm"
      ],
      "include_colab_link": true
    },
    "kernelspec": {
      "name": "python3",
      "display_name": "Python 3"
    },
    "language_info": {
      "name": "python"
    }
  },
  "cells": [
    {
      "cell_type": "markdown",
      "metadata": {
        "id": "view-in-github",
        "colab_type": "text"
      },
      "source": [
        "<a href=\"https://colab.research.google.com/github/Shubhangi-Tiwari/Capstone-Project-EDA---Hotel-Booking/blob/main/Hotel_Booking_EDA_Project.ipynb\" target=\"_parent\"><img src=\"https://colab.research.google.com/assets/colab-badge.svg\" alt=\"Open In Colab\"/></a>"
      ]
    },
    {
      "cell_type": "markdown",
      "source": [
        "# **Project Name**    - **Hotel Booking**\n",
        "\n"
      ],
      "metadata": {
        "id": "vncDsAP0Gaoa"
      }
    },
    {
      "cell_type": "markdown",
      "source": [
        "##### **Project Type**    - EDA\n",
        "##### **Contribution**    - Individual\n"
      ],
      "metadata": {
        "id": "beRrZCGUAJYm"
      }
    },
    {
      "cell_type": "markdown",
      "source": [
        "# **Project Summary**"
      ],
      "metadata": {
        "id": "FJNUwmbgGyua"
      }
    },
    {
      "cell_type": "markdown",
      "source": [
        "Hotel Booking project analysis was done individually by me. As soon as I started exploring hotel booking.csv data file I realised that there are number of columns & rows in dataset. This provided dataset of hotel booking have details of hotel booking,this dataset will help to analyse about booking status and how we can improve booking of hotels considering other factors of booking such as longest stay in hotel, no. of cancellation, when the most hotel booking was done. This will help to understand booking better and can help to take decisions to improve hotel business and make it easy for customer to do booking based on these factors. While analysing dataset, I came to know that there were many null & duplicate values in dataset which made it clear that data cleaning is needed so I removed all the duplicate values, replaced null values with 0 & 'not specified' respectively as per column type.Columns name were renamed. I also dropped rows with 0 count of *babies*,*children* & *adults*. Changed data type of column *children*,*adults*,*babies* into int data type and changed *reservation_status_date* data type into datetime. Created two new columns named as *total_stays* and *total_number_of_guests*. The column *total_stay* is created by adding *stays_in_week_nights* and *stays_in_weekend_nights*  columns, also *total_number_of_guests* column is created by adding *adults*,*children* & *babies* column value.\n",
        "\n",
        "After Data Cleaning, analysis of data is done which gave some important insights from hotel booking data.Some important insights found from hotel booking dataset was about when booking was made, Best time to book hotel, from which country most of the booking was done, busiest month of booking, maximum length of stay in hotel, cancellation rate with respect to both hotels and many more insights about hotel booking were found which can help both hotel business to grow by working on weak factors, and improve services that are negatively effecting hotel business and for customer to make a perfect choice as per their requirements to make booking.\n",
        "\n",
        "For Data visualization, mainly seaborn and matplotlib libraries were used. Types of graph used while visualizing data are bar chart, line chart, pie chart, scatter plot, box plot, correlation heatmap and pair plot. This data visualization gave important and exact details about booking and made the complex data more understandable and easy to view all in one chart."
      ],
      "metadata": {
        "id": "F6v_1wHtG2nS"
      }
    },
    {
      "cell_type": "markdown",
      "source": [
        "# **GitHub Link -**"
      ],
      "metadata": {
        "id": "w6K7xa23Elo4"
      }
    },
    {
      "cell_type": "markdown",
      "source": [
        "Provide your GitHub Link here."
      ],
      "metadata": {
        "id": "h1o69JH3Eqqn"
      }
    },
    {
      "cell_type": "markdown",
      "source": [
        "# **Problem Statement**\n"
      ],
      "metadata": {
        "id": "yQaldy8SH6Dl"
      }
    },
    {
      "cell_type": "markdown",
      "source": [
        "**Hotel Booking Data Analysis**\n",
        "\n",
        "Hotel business is a very competitive market, as there are many new competitors it become important for us to work on different strategies to improve market value and booking of hotel. In the same way, it becomes tough for customers to select a hotel to book as different customer have different requirement while booking hotel. The very first step for business owner towards improvement is analyzing data of our own business to find loopholes and work on various factors to improve booking of hotel.This data can also help customer to find answer of various question wise booking hotels, like when is the best time of year to book a hotel? Or the optimal length of stay in order to get the best daily rate? This hotel dataset can help explore those questions!\n",
        "\n",
        "The provided dataset of hotel booking contains booking information for a city hotel and a resort hotel,includes information such as when the booking was made, length of stay, number of adults,children & babies, and the number of available parking spaces, country, customer types, market segment, distribution channels and many more factors. This data will help to understand which factors effect most of the hotel booking. Analyzing this data based on such factors give clear insights about bookings and help customers to do booking accordingly. We can get various information about booking such as when most hotel bookings were done? From which country most booking were done? Booking based on age group and many more things that will help to draw conclusion what things most be considered while booking a hotel.\n",
        "\n",
        "It can help customer to choose and decide when is the best time to book hotel? Which is the most liked meals? Also to check various factor of hotel and make proper decision while booking hotel, so this dataset is useful for both customer point of view and business owner point of view."
      ],
      "metadata": {
        "id": "DpeJGUA3kjGy"
      }
    },
    {
      "cell_type": "markdown",
      "source": [
        "#### **Define Your Business Objective?**"
      ],
      "metadata": {
        "id": "PH-0ReGfmX4f"
      }
    },
    {
      "cell_type": "markdown",
      "source": [
        "Business Owner Point of View - Analyze Hotel Booking data to find loopholes & improve hotel business by working on that factors.\n",
        "\n",
        "Customer Point of View - Analyze Hotel Booking data to find perfect condition to book a hotel."
      ],
      "metadata": {
        "id": "PhDvGCAqmjP1"
      }
    },
    {
      "cell_type": "markdown",
      "source": [
        "# **General Guidelines** : -  "
      ],
      "metadata": {
        "id": "mDgbUHAGgjLW"
      }
    },
    {
      "cell_type": "markdown",
      "source": [
        "1.   Well-structured, formatted, and commented code is required. \n",
        "2.   Exception Handling, Production Grade Code & Deployment Ready Code will be a plus. Those students will be awarded some additional credits. \n",
        "     \n",
        "     The additional credits will have advantages over other students during Star Student selection.\n",
        "       \n",
        "             [ Note: - Deployment Ready Code is defined as, the whole .ipynb notebook should be executable in one go\n",
        "                       without a single error logged. ]\n",
        "\n",
        "3.   Each and every logic should have proper comments.\n",
        "4. You may add as many number of charts you want. Make Sure for each and every chart the following format should be answered.\n",
        "        \n",
        "\n",
        "```\n",
        "# Chart visualization code\n",
        "```\n",
        "            \n",
        "\n",
        "*   Why did you pick the specific chart?\n",
        "*   What is/are the insight(s) found from the chart?\n",
        "* Will the gained insights help creating a positive business impact? \n",
        "Are there any insights that lead to negative growth? Justify with specific reason.\n",
        "\n",
        "5. You have to create at least 20 logical & meaningful charts having important insights.\n",
        "\n",
        "\n",
        "[ Hints : - Do the Vizualization in  a structured way while following \"UBM\" Rule. \n",
        "\n",
        "U - Univariate Analysis,\n",
        "\n",
        "B - Bivariate Analysis (Numerical - Categorical, Numerical - Numerical, Categorical - Categorical)\n",
        "\n",
        "M - Multivariate Analysis\n",
        " ]\n",
        "\n",
        "\n",
        "\n"
      ],
      "metadata": {
        "id": "ZrxVaUj-hHfC"
      }
    },
    {
      "cell_type": "markdown",
      "source": [
        "# ***Let's Begin !***"
      ],
      "metadata": {
        "id": "O_i_v8NEhb9l"
      }
    },
    {
      "cell_type": "markdown",
      "source": [
        "## ***1. Know Your Data***"
      ],
      "metadata": {
        "id": "HhfV-JJviCcP"
      }
    },
    {
      "cell_type": "markdown",
      "source": [
        "### Import Libraries"
      ],
      "metadata": {
        "id": "Y3lxredqlCYt"
      }
    },
    {
      "cell_type": "code",
      "source": [
        "# Import Libraries\n",
        "import numpy as np\n",
        "import pandas as pd\n",
        "import matplotlib.pyplot as plt\n",
        "import seaborn as sns\n",
        "import missingno as msno\n",
        "%matplotlib inline"
      ],
      "metadata": {
        "id": "M8Vqi-pPk-HR"
      },
      "execution_count": null,
      "outputs": []
    },
    {
      "cell_type": "markdown",
      "source": [
        "### Dataset Loading"
      ],
      "metadata": {
        "id": "3RnN4peoiCZX"
      }
    },
    {
      "cell_type": "code",
      "source": [
        "# Load Dataset\n",
        "from google.colab import drive\n",
        "drive.mount('/content/drive')"
      ],
      "metadata": {
        "id": "4CkvbW_SlZ_R"
      },
      "execution_count": null,
      "outputs": []
    },
    {
      "cell_type": "code",
      "source": [
        "file_location= '/content/drive/MyDrive/Hotel Bookings.csv'\n",
        "df_hotelbooking= pd.read_csv (file_location)"
      ],
      "metadata": {
        "id": "7xoQ6iyzoRNr"
      },
      "execution_count": null,
      "outputs": []
    },
    {
      "cell_type": "markdown",
      "source": [
        "### Dataset First View"
      ],
      "metadata": {
        "id": "x71ZqKXriCWQ"
      }
    },
    {
      "cell_type": "code",
      "source": [
        "# Dataset First Look\n",
        "#Using head() method to view first 5 rows of the dataset\n",
        "df_hotelbooking.head()"
      ],
      "metadata": {
        "id": "LWNFOSvLl09H"
      },
      "execution_count": null,
      "outputs": []
    },
    {
      "cell_type": "code",
      "source": [
        "#Using tail() method to view last 5 rows of the dataset\n",
        "df_hotelbooking.tail()"
      ],
      "metadata": {
        "id": "5Rg8FAvyo515"
      },
      "execution_count": null,
      "outputs": []
    },
    {
      "cell_type": "markdown",
      "source": [
        "### Dataset Rows & Columns count"
      ],
      "metadata": {
        "id": "7hBIi_osiCS2"
      }
    },
    {
      "cell_type": "code",
      "source": [
        "# Dataset Rows & Columns count\n",
        "df_hotelbooking.shape"
      ],
      "metadata": {
        "id": "Kllu7SJgmLij"
      },
      "execution_count": null,
      "outputs": []
    },
    {
      "cell_type": "code",
      "source": [
        "#List of columns present in dataset \n",
        "list(df_hotelbooking.columns)"
      ],
      "metadata": {
        "id": "LzWi79YHpAq6"
      },
      "execution_count": null,
      "outputs": []
    },
    {
      "cell_type": "code",
      "source": [
        "#Getting count of City and Resort hotel using value_counts\n",
        "df_hotelbooking['hotel'].value_counts()"
      ],
      "metadata": {
        "id": "w1TQ8Em9pBjh"
      },
      "execution_count": null,
      "outputs": []
    },
    {
      "cell_type": "markdown",
      "source": [
        "### Dataset Information"
      ],
      "metadata": {
        "id": "JlHwYmJAmNHm"
      }
    },
    {
      "cell_type": "code",
      "source": [
        "# Dataset Info\n",
        "df_hotelbooking.info()"
      ],
      "metadata": {
        "id": "e9hRXRi6meOf"
      },
      "execution_count": null,
      "outputs": []
    },
    {
      "cell_type": "markdown",
      "source": [
        "#### Duplicate Values"
      ],
      "metadata": {
        "id": "35m5QtbWiB9F"
      }
    },
    {
      "cell_type": "code",
      "source": [
        "# Dataset Duplicate Value Count\n",
        "#total duplicate value in dataset\n",
        "df_hotelbooking.duplicated().sum()"
      ],
      "metadata": {
        "id": "1sLdpKYkmox0"
      },
      "execution_count": null,
      "outputs": []
    },
    {
      "cell_type": "markdown",
      "source": [
        "#### Missing Values/Null Values"
      ],
      "metadata": {
        "id": "PoPl-ycgm1ru"
      }
    },
    {
      "cell_type": "code",
      "source": [
        "# Missing Values/Null Values Count\n",
        "df_hotelbooking.isna().sum().sum()"
      ],
      "metadata": {
        "id": "GgHWkxvamxVg"
      },
      "execution_count": null,
      "outputs": []
    },
    {
      "cell_type": "code",
      "source": [
        "#Using isnull() to return null values in dataset using Boolean value that is True for NULL values otherwise False.\n",
        "df_hotelbooking.isnull()"
      ],
      "metadata": {
        "id": "YVWNjqpfplXa"
      },
      "execution_count": null,
      "outputs": []
    },
    {
      "cell_type": "code",
      "source": [
        "#Total count of null values in each column of dataset\n",
        "df_hotelbooking.isnull().sum()"
      ],
      "metadata": {
        "id": "jTETpK7lpnhy"
      },
      "execution_count": null,
      "outputs": []
    },
    {
      "cell_type": "code",
      "source": [
        "# Visualizing the missing values using misingno library\n",
        "msno.bar(df_hotelbooking)"
      ],
      "metadata": {
        "id": "3q5wnI3om9sJ"
      },
      "execution_count": null,
      "outputs": []
    },
    {
      "cell_type": "code",
      "source": [
        "# Visualizing the missing values using seaborn library\n",
        "sns.heatmap(df_hotelbooking.isnull())"
      ],
      "metadata": {
        "id": "-TqDLHkBptcS"
      },
      "execution_count": null,
      "outputs": []
    },
    {
      "cell_type": "markdown",
      "source": [
        "### What did you know about your dataset?"
      ],
      "metadata": {
        "id": "H0kj-8xxnORC"
      }
    },
    {
      "cell_type": "markdown",
      "source": [
        "The provided dataset is of a hotel booking and after analyzing the dataset we get some basic information about dataset, there are total 119390 rows and 32 columns, also data contain lots of null & duplicate values, there are total 129425 null value and 31994 duplicates values. The null values are mainly in 4 different columns that is children,country,agent and company.Count of null values are as follows:\n",
        "\n",
        "1.Children column have 4 missing values.\n",
        "\n",
        "2.Country column have 488 missing values.\n",
        "\n",
        "3.Agent column have 16340 missing values.\n",
        "\n",
        "4.Company column have 112593 missing values.\n",
        "\n",
        "By visualizing those missing values, it becomes easy to identify columns with missing values, so using missingno and seaborn library we have visualized missing values.\n"
      ],
      "metadata": {
        "id": "gfoNAAC-nUe_"
      }
    },
    {
      "cell_type": "markdown",
      "source": [
        "## ***2. Understanding Your Variables***"
      ],
      "metadata": {
        "id": "nA9Y7ga8ng1Z"
      }
    },
    {
      "cell_type": "code",
      "source": [
        "# Dataset Columns\n",
        "df_hotelbooking.columns"
      ],
      "metadata": {
        "id": "j7xfkqrt5Ag5"
      },
      "execution_count": null,
      "outputs": []
    },
    {
      "cell_type": "code",
      "source": [
        "# Dataset Describe\n",
        "df_hotelbooking.describe(include='all')"
      ],
      "metadata": {
        "id": "DnOaZdaE5Q5t"
      },
      "execution_count": null,
      "outputs": []
    },
    {
      "cell_type": "markdown",
      "source": [
        "### Variables Description "
      ],
      "metadata": {
        "id": "PBTbrJXOngz2"
      }
    },
    {
      "cell_type": "markdown",
      "source": [
        "**hotel**- Whether booked hotel is City Hotel or Resort Hotel.\n",
        "\n",
        "**is_canceled** - Booking of Hotel was cancelled or not (0= not canceled, 1=cancelled)\n",
        "\n",
        "**lead_time**-Number of days that elapsed between the entering date of the booking into the PMS and the arrival date.\n",
        "\n",
        "**arrival_date_year**- Arrival Year\n",
        "\n",
        "**arrival_date_month**- Arrival Month\n",
        "\n",
        "**arrival_date_week_number**- Arrival Week\n",
        "\n",
        "**arrival_date_day_of_month**- Arrival Date\n",
        "\n",
        "**stays_in_weekend_nights**- Number of Weekend nights (Saturday or Sunday) the guest stayed or booked to stay at the hotel\n",
        "\n",
        "**stays_in_week_nights**- Number of week nights(Monday to Friday) the guest stayed or booked to stay at the hotel\n",
        "\n",
        "**adults**- Number of adults\n",
        "\n",
        "**children**- Number of Children\n",
        "\n",
        "**babies**- Number of babies\n",
        "\n",
        "**meal**- kind of meal opted for \n",
        "\n",
        "**country**- Country code\n",
        "\n",
        "**market_segment**- Which segment the customer belongs to \n",
        "\n",
        "**distribution_channel**- How the customer accessed the stay corporate booking/Direct/TA.TO\n",
        "\n",
        "**is_repeated_guest**- Guest coming for first time or not \n",
        "\n",
        "**previous_cancellations**- Was there a cancellation before\n",
        "\n",
        "**previous_bookings_not_canceled**- Count of previous bookings\n",
        "\n",
        "**reserved_room_type**- Type of room reserved\n",
        "\n",
        "**assigned_room_type**- Type of room assigned\n",
        "\n",
        "**booking_changes**- Count of changes made to booking\n",
        "\n",
        "**deposit_type**- Deposit Type\n",
        "\n",
        "**agent**- Booked through agent\n",
        "\n",
        "**company**- Booked through company\n",
        "\n",
        "**days_in_waiting_list**- Number of days in waiting list\n",
        "\n",
        "**customer_type**- Type of Customer\n",
        "\n",
        "**adr**- average daily rate\n",
        "\n",
        "**required_car_parking_spaces**- If car parking is required\n",
        "\n",
        "**total_of_special_requests**- Number of additional special requirements\n",
        "\n",
        "**reservation_status**- Status of Reservation\n",
        "\n",
        "**reservation_status_date**- Date of specific status\n"
      ],
      "metadata": {
        "id": "aJV4KIxSnxay"
      }
    },
    {
      "cell_type": "markdown",
      "source": [
        "### Check Unique Values for each variable."
      ],
      "metadata": {
        "id": "u3PMJOP6ngxN"
      }
    },
    {
      "cell_type": "code",
      "source": [
        "# Check Unique Values for each variable using for loop.(Count of unique values in each particular column)\n",
        "for i in df_hotelbooking.columns.tolist():\n",
        "  print(\"No. of unique values in \",i,\"is\",df_hotelbooking[i].nunique(),\".\")"
      ],
      "metadata": {
        "id": "zms12Yq5n-jE"
      },
      "execution_count": null,
      "outputs": []
    },
    {
      "cell_type": "code",
      "source": [
        "# Check Unique Values for some variables.\n",
        "print(df_hotelbooking['hotel'].unique())\n",
        "print(df_hotelbooking['is_canceled'].unique())\n",
        "print(df_hotelbooking['arrival_date_year'].unique())\n",
        "print(df_hotelbooking['arrival_date_month'].unique())\n",
        "print(df_hotelbooking['stays_in_weekend_nights'].unique())\n",
        "print(df_hotelbooking['stays_in_week_nights'].unique())\n",
        "print(df_hotelbooking['country'].unique())\n",
        "print(df_hotelbooking['market_segment'].unique())\n",
        "print(df_hotelbooking['distribution_channel'].unique())\n",
        "print(df_hotelbooking['is_repeated_guest'].unique())\n",
        "print(df_hotelbooking['reserved_room_type'].unique())\n",
        "print(df_hotelbooking['assigned_room_type'].unique())\n",
        "print(df_hotelbooking['booking_changes'].unique())\n",
        "print(df_hotelbooking['deposit_type'].unique())\n",
        "print(df_hotelbooking['customer_type'].unique())\n",
        "print(df_hotelbooking['reservation_status'].unique())\n",
        "print(df_hotelbooking['total_of_special_requests'].unique())\n",
        "print(df_hotelbooking['required_car_parking_spaces'].unique())\n",
        "print(df_hotelbooking['children'].unique())\n",
        "print(df_hotelbooking['adults'].unique())\n",
        "print(df_hotelbooking['babies'].unique())\n"
      ],
      "metadata": {
        "id": "fmKReTNOsowL"
      },
      "execution_count": null,
      "outputs": []
    },
    {
      "cell_type": "code",
      "source": [
        "#Viewing data in small parts to understand data in better way \n",
        "df_hotelbooking.iloc[:,-3: ]"
      ],
      "metadata": {
        "id": "ZIqClarUs1a7"
      },
      "execution_count": null,
      "outputs": []
    },
    {
      "cell_type": "code",
      "source": [
        "#Viewing data in small parts to understand data in better way \n",
        "df_hotelbooking.loc[:,['hotel','company','reservation_status']]"
      ],
      "metadata": {
        "id": "oqVVJUhZs4Uk"
      },
      "execution_count": null,
      "outputs": []
    },
    {
      "cell_type": "code",
      "source": [
        "#Viewing data in small parts to understand data in better way \n",
        "df_hotelbooking.loc[50:100,['adults','children','babies']]\n",
        "#This helps us to understand that children data type is in float which needs to be change as count of children cannot be in float form"
      ],
      "metadata": {
        "id": "7vCywVyxs9N0"
      },
      "execution_count": null,
      "outputs": []
    },
    {
      "cell_type": "code",
      "source": [
        "#Viewing data in small parts to understand data in better way \n",
        "df_hotelbooking[df_hotelbooking['adults']==0]\n",
        "#This gives us an idea that most of the column have adults in hotel booking as with 0 count of adults only 403 rows are viewed"
      ],
      "metadata": {
        "id": "WynaTdNetCLz"
      },
      "execution_count": null,
      "outputs": []
    },
    {
      "cell_type": "code",
      "source": [
        "#Count of no. of adults that makes us understand that count of 2 adults in booking is most \n",
        "df_hotelbooking['adults'].value_counts()"
      ],
      "metadata": {
        "id": "XIEEhaPBtkAD"
      },
      "execution_count": null,
      "outputs": []
    },
    {
      "cell_type": "code",
      "source": [
        "#Count of children\n",
        "df_hotelbooking['children'].value_counts()"
      ],
      "metadata": {
        "id": "INlsPYIOtnE0"
      },
      "execution_count": null,
      "outputs": []
    },
    {
      "cell_type": "code",
      "source": [
        "#Count of babies\n",
        "df_hotelbooking['babies'].value_counts()"
      ],
      "metadata": {
        "id": "3kD3AL4Itpuc"
      },
      "execution_count": null,
      "outputs": []
    },
    {
      "cell_type": "code",
      "source": [
        "#Viewing the first 10 rows of complete dataset\n",
        "df_hotelbooking[0:10]"
      ],
      "metadata": {
        "id": "x7mC9ex8twnc"
      },
      "execution_count": null,
      "outputs": []
    },
    {
      "cell_type": "code",
      "source": [
        "#Total count of 10 country from where most hotel booking was done\n",
        "df_hotelbooking['country'].value_counts().head(10)"
      ],
      "metadata": {
        "id": "Bv6nQERLt8-r"
      },
      "execution_count": null,
      "outputs": []
    },
    {
      "cell_type": "code",
      "source": [
        "#Least count of booking done \n",
        "df_hotelbooking['country'].value_counts().tail(10)"
      ],
      "metadata": {
        "id": "F6hOshgNuAmj"
      },
      "execution_count": null,
      "outputs": []
    },
    {
      "cell_type": "code",
      "source": [
        "#Maximum stay in week nights and maximum stay in weekend nights\n",
        "print(f\" The longest stay in week nights are {df_hotelbooking['stays_in_week_nights'].max()}\")\n",
        "print(f\" The longest stay in weekend nights are {df_hotelbooking['stays_in_weekend_nights'].max()}\")"
      ],
      "metadata": {
        "id": "8_TONfuGuIYk"
      },
      "execution_count": null,
      "outputs": []
    },
    {
      "cell_type": "markdown",
      "source": [
        "## 3. ***Data Wrangling***"
      ],
      "metadata": {
        "id": "dauF4eBmngu3"
      }
    },
    {
      "cell_type": "markdown",
      "source": [
        "### Data Wrangling Code"
      ],
      "metadata": {
        "id": "bKJF3rekwFvQ"
      }
    },
    {
      "cell_type": "code",
      "source": [
        "# Write your code to make your dataset analysis ready.\n",
        "# Creating a copy of the current dataset and assigning to df\n",
        "df=df_hotelbooking.copy()\n",
        "df.columns"
      ],
      "metadata": {
        "id": "wk-9a2fpoLcV"
      },
      "execution_count": null,
      "outputs": []
    },
    {
      "cell_type": "code",
      "source": [
        "#Getting count of canceled hotel and booked hotels\n",
        "df['is_canceled'].value_counts()"
      ],
      "metadata": {
        "id": "VDHD764ZuSvE"
      },
      "execution_count": null,
      "outputs": []
    },
    {
      "cell_type": "code",
      "source": [
        "#Getting count of repeated guests and non-repeated guests.\n",
        "df['is_repeated_guest'].value_counts()"
      ],
      "metadata": {
        "id": "EB64l551uWOs"
      },
      "execution_count": null,
      "outputs": []
    },
    {
      "cell_type": "code",
      "source": [
        "#Renaming the columns name\n",
        "df.rename(columns={'arrival_date_year':'arrival_year','arrival_date_month':'arrival_month','arrival_date_week_number':'arrival_week_number','arrival_date_day_of_month':'arrival_day_of_month'},inplace=True)"
      ],
      "metadata": {
        "id": "t-vWKPPauiEd"
      },
      "execution_count": null,
      "outputs": []
    },
    {
      "cell_type": "code",
      "source": [
        "#Dropping duplicate rows\n",
        "df.drop_duplicates(inplace=True)"
      ],
      "metadata": {
        "id": "eIAdaGIOrodq"
      },
      "execution_count": null,
      "outputs": []
    },
    {
      "cell_type": "code",
      "source": [
        "#Dropping row with 0 number of adult,children & babies as no guest means no hotel booking was made\n",
        "df = df.drop(df[(df.adults+df.babies+df.children)==0].index)"
      ],
      "metadata": {
        "id": "CCb_eSDGukm8"
      },
      "execution_count": null,
      "outputs": []
    },
    {
      "cell_type": "code",
      "source": [
        "#replacing null values with 0 to avoid error while changing data types\n",
        "df[['agent','company']]=df[['agent','company']].fillna(0.0)"
      ],
      "metadata": {
        "id": "2VZZcUPbuorb"
      },
      "execution_count": null,
      "outputs": []
    },
    {
      "cell_type": "code",
      "source": [
        "#replacing null values with 0 to avoid error while changing data types\n",
        "df['children']=df['children'].fillna(0.0)"
      ],
      "metadata": {
        "id": "WzL3bXDJuy10"
      },
      "execution_count": null,
      "outputs": []
    },
    {
      "cell_type": "code",
      "source": [
        "#Replacing null values with 'not specified' in country column\n",
        "df['country']=df['country'].fillna('not specified')"
      ],
      "metadata": {
        "id": "70Hd-G9fsWMU"
      },
      "execution_count": null,
      "outputs": []
    },
    {
      "cell_type": "code",
      "source": [
        "#from dataset info view we understand that children data type need to be change as now its in float value \n",
        "#changing date type as required of needed columns\n",
        "df['children']=df['children'].astype(int)\n",
        "df['agent']=df['agent'].astype(int)\n",
        "df['company']=df['company'].astype(int)"
      ],
      "metadata": {
        "id": "0TDwo50Hvo39"
      },
      "execution_count": null,
      "outputs": []
    },
    {
      "cell_type": "code",
      "source": [
        "#Converting data type of reservation status date to datetime data type\n",
        "df['reservation_status_date']=df['reservation_status_date'].astype('datetime64[ns]')"
      ],
      "metadata": {
        "id": "0IxmNTZIupIM"
      },
      "execution_count": null,
      "outputs": []
    },
    {
      "cell_type": "code",
      "source": [
        "#Creating a new column in dataframe to store value of total guests\n",
        "df['total_number_of_guests'] = df['adults'] + df['children'] + df['babies']\n",
        "df.head(15)"
      ],
      "metadata": {
        "id": "b2Ngblkcvqp9"
      },
      "execution_count": null,
      "outputs": []
    },
    {
      "cell_type": "code",
      "source": [
        "#Creating a new column in dataframe to store total stay in hotel as there are two different columns for day and night stay\n",
        "df['total_stays'] = df['stays_in_week_nights'] + df['stays_in_weekend_nights']\n",
        "#Have a view of dataframe\n",
        "df.tail(10)"
      ],
      "metadata": {
        "id": "cqW5BSEQvwUc"
      },
      "execution_count": null,
      "outputs": []
    },
    {
      "cell_type": "code",
      "source": [
        "#Maximum length of stay in hotel\n",
        "df['total_stays'].max()"
      ],
      "metadata": {
        "id": "xgOkFcfAv3vr"
      },
      "execution_count": null,
      "outputs": []
    },
    {
      "cell_type": "code",
      "source": [
        "#Count of number of guest in hotel\n",
        "df['total_number_of_guests'].value_counts()"
      ],
      "metadata": {
        "id": "6eB1Xnthv5_E"
      },
      "execution_count": null,
      "outputs": []
    },
    {
      "cell_type": "code",
      "source": [
        "#Count of top 10 countries from where most hotels were booked \n",
        "country_hotel_booked = df[df['is_canceled'] == 0]['country'].value_counts()[:10]"
      ],
      "metadata": {
        "id": "A_0eshoUv9gU"
      },
      "execution_count": null,
      "outputs": []
    },
    {
      "cell_type": "code",
      "source": [
        "#View \n",
        "country_hotel_booked"
      ],
      "metadata": {
        "id": "IFJnp0O1wL_9"
      },
      "execution_count": null,
      "outputs": []
    },
    {
      "cell_type": "markdown",
      "source": [
        "### What all manipulations have you done and insights you found?"
      ],
      "metadata": {
        "id": "MSa1f5Uengrz"
      }
    },
    {
      "cell_type": "markdown",
      "source": [
        "By viewing and analyzing dataset, I understood lots of things about dataset. There were many null values as well as duplicate values. Before manipulating the data or making any permanent changes to data, first of all created a copy of dataset so that all the changes will be done by me will not effect the original dataset. All this changes will be done in copy of dataset. After creating a copy of dataset, renamed columns name to make data more clear and easy to identify information of column. \n",
        "\n",
        "Then viewed the count of canceled hotel, booked hotel, checked the number of repeated guest. While analzing data it is clear that there are adults, children and babies count that makes us to understand that count of this three columns gives information about total guest in each booking and if all three of them are 0 then seems that no booking was made and that information is a mistake in dataset so we dropped row from adult, babies and children column wherever values for three of them were 0. Now as unwanted rows are dropped, need to replace null values with 0 so replaced all null values of children,agents column with 0.Replaced null value in Country column with 'not specified'. All duplicate rows were dropped.\n",
        "\n",
        "As per the view of data we understood that in some columns data are in float form but those values need to be change in int value. So changing data type of Children, Agent & Company column to int. Changed data type of reservation_status_date to datetime data type. Created a new column in dataset to keep count of total guest. In the same way created another new column named as total_stay which is sum of stays in weekend nights and stay in week nights.This all are the manipulations done by me to data to visualize it in better way and make it easy to understand. Also there are other columns like booking_changes, days_in_waiting_list, required_car_parking_spaces, reservation_status, reservation_status_date, total_of_special_requests that are not so detailed and not directly related to effect hotel booking.\n",
        "\n",
        "\n",
        "\n",
        "\n",
        "\n"
      ],
      "metadata": {
        "id": "LbyXE7I1olp8"
      }
    },
    {
      "cell_type": "markdown",
      "source": [
        "## ***4. Data Vizualization, Storytelling & Experimenting with charts : Understand the relationships between variables***"
      ],
      "metadata": {
        "id": "GF8Ens_Soomf"
      }
    },
    {
      "cell_type": "markdown",
      "source": [
        "#### Chart - 1"
      ],
      "metadata": {
        "id": "0wOQAZs5pc--"
      }
    },
    {
      "cell_type": "code",
      "source": [
        "# Chart - 1 visualization code\n",
        "plt.figure(figsize=(12,5))\n",
        "xlabel=('Country')\n",
        "ylabel=('Total Guest arrived')\n",
        "title=('Top 10 country of Hotel booking')\n",
        "country_hotel_booked.plot.bar()"
      ],
      "metadata": {
        "id": "7v_ESjsspbW7"
      },
      "execution_count": null,
      "outputs": []
    },
    {
      "cell_type": "code",
      "source": [
        "#Visualizing same first chart using seaborn library \n",
        "# Chart - 1 visualization code\n",
        "plt.figure(figsize=(15,6))\n",
        "top10_country= df[df['is_canceled'] == 0]['country'].value_counts()[:10]\n",
        "sns.barplot(y=top10_country,x=top10_country.index,orient='v',palette='cool')\n",
        "plt.xlabel('Country')\n",
        "plt.ylabel('Total number of guests')\n",
        "plt.title('Top 10 Country for hotel booking')\n",
        "plt.show()"
      ],
      "metadata": {
        "id": "I4kYa1eI1VA1"
      },
      "execution_count": null,
      "outputs": []
    },
    {
      "cell_type": "markdown",
      "source": [
        "##### 1. Why did you pick the specific chart?"
      ],
      "metadata": {
        "id": "bI0HRWKd455H"
      }
    },
    {
      "cell_type": "markdown",
      "source": [
        "Bar graphs are the pictorial representation of data in the form of vertical or horizontal rectangular bars, where the length of bars are proportional to the measure of data. They are also known as bar charts. Bar graphs are one of the means of data handling in statistics. \n",
        "\n",
        "To show top 10 countries wrt number of guests I used bar charts as its easy to understand data and visually appealing to get quick data insights without digging much."
      ],
      "metadata": {
        "id": "ltsIUvqO5bF3"
      }
    },
    {
      "cell_type": "markdown",
      "source": [
        "##### 2. What is/are the insight(s) found from the chart?"
      ],
      "metadata": {
        "id": "mNh8gmEc5NLU"
      }
    },
    {
      "cell_type": "markdown",
      "source": [
        "The insights found from the chart is that PRT is the top country from where most of the hotel booking were done which is 20977 bookings followed by GBR, FRA, ESP, DEU, IRL , ITA, BEL, NLD and USA."
      ],
      "metadata": {
        "id": "-h8RemwD5b65"
      }
    },
    {
      "cell_type": "markdown",
      "source": [
        "##### 3. Will the gained insights help creating a positive business impact? \n",
        "Are there any insights that lead to negative growth? Justify with specific reason."
      ],
      "metadata": {
        "id": "JTVY5uN-5PCI"
      }
    },
    {
      "cell_type": "markdown",
      "source": [
        "The gained insights will definitely help to impact business positively as this insight help us to understand and determine which country people are making booking and what are the reasons that comparatively other countries bookings are less than this country. Understanding those root causes can help to work on those factor and improve bookings in other countries as well. "
      ],
      "metadata": {
        "id": "6TJPSpcz5cdA"
      }
    },
    {
      "cell_type": "markdown",
      "source": [
        "#### Chart - 2"
      ],
      "metadata": {
        "id": "wDWs12pmHH0y"
      }
    },
    {
      "cell_type": "code",
      "source": [
        "# Chart - 2 visualization code\n",
        "plt.figure(figsize=(15,6))\n",
        "repeated_guests= df['is_repeated_guest'].value_counts()\n",
        "sns.barplot(y=repeated_guests,x=repeated_guests.index,orient='v',palette='coolwarm')\n",
        "plt.xlabel('N0. Of Repeated Guests(0=No, 1=Yes)')\n",
        "plt.ylabel('Total no. of guests')\n",
        "plt.show()"
      ],
      "metadata": {
        "id": "tFYFNgjV6h1R"
      },
      "execution_count": null,
      "outputs": []
    },
    {
      "cell_type": "code",
      "source": [
        "# Chart - 2 visualization code\n",
        "#To compare repeated guest wrt to both hotels\n",
        "plt.figure(figsize=(14, 7))\n",
        "sns.countplot(data = df, x = 'is_repeated_guest',hue='hotel', palette='rocket')\n",
        "plt.title('Number of repeated guests for both Hotels',fontweight=\"bold\", size=15)\n",
        "plt.show()"
      ],
      "metadata": {
        "id": "e2LM5a0lqvIx"
      },
      "execution_count": null,
      "outputs": []
    },
    {
      "cell_type": "markdown",
      "source": [
        "\n",
        "\n",
        "##### 1. Why did you pick the specific chart?"
      ],
      "metadata": {
        "id": "K5QZ13OEpz2H"
      }
    },
    {
      "cell_type": "markdown",
      "source": [
        "Bar graphs are the pictorial representation of data in the form of vertical or horizontal rectangular bars, where the length of bars are proportional to the measure of data. They are also known as bar charts. Bar graphs are one of the means of data handling in statistics. \n",
        "\n",
        "To show number of repeated guests I used bar charts as its easy to understand data and visually appealing to get quick data insights without digging much."
      ],
      "metadata": {
        "id": "EbdUY8__IFNJ"
      }
    },
    {
      "cell_type": "markdown",
      "source": [
        "##### 2. What is/are the insight(s) found from the chart?"
      ],
      "metadata": {
        "id": "ZZ-GiAlt9pfo"
      }
    },
    {
      "cell_type": "markdown",
      "source": [
        "The insights found from the chart is that number of repeated guests are way less than expected total number of guests. The number of repeated guests from total guests are 3810 and non repeated guest/ first time guest count are 115580. Also, an another graph is created to show repeated guest with respect to hotel type to understand which hotel have more repeated guests."
      ],
      "metadata": {
        "id": "mr-H-uZC9qQI"
      }
    },
    {
      "cell_type": "markdown",
      "source": [
        "##### 3. Will the gained insights help creating a positive business impact? \n",
        "Are there any insights that lead to negative growth? Justify with specific reason."
      ],
      "metadata": {
        "id": "vEZw3f4e9rDA"
      }
    },
    {
      "cell_type": "markdown",
      "source": [
        "The gained insights shows us that no. of repeated guest are way less than total number of guest which means that most of the people are not revisting or booking hotel again, it clearly shows that there are some reason that are impacting revisting people in hotel and for that we need to work on different factors, we must take feedback from customer to work on that things that are impacting repeated guests."
      ],
      "metadata": {
        "id": "G1DlK3Ut9rY4"
      }
    },
    {
      "cell_type": "code",
      "source": [
        "# Chart - 2 visualization code\n",
        "plt.figure(figsize=(12,8))\n",
        "booking_canceled= df['is_canceled'].value_counts()\n",
        "sns.barplot(y=booking_canceled,x=booking_canceled.index,orient='v',color='coral')\n",
        "plt.xlabel('Canceled Hotels(0=No,1=Yes)')\n",
        "plt.ylabel('Total no. of guests')\n",
        "plt.show()"
      ],
      "metadata": {
        "id": "9pJzuHUlIDN_"
      },
      "execution_count": null,
      "outputs": []
    },
    {
      "cell_type": "code",
      "source": [
        "# Chart- 2 visualization code\n",
        "#To compare cancellation wrt to both hotels\n",
        "plt.figure(figsize=(14, 7))\n",
        "sns.countplot(data = df, x = 'is_canceled',hue='hotel', palette='husl')\n",
        "plt.title('Cancellation for both Hotels',fontweight=\"bold\", size=15)\n",
        "plt.show()"
      ],
      "metadata": {
        "id": "JWU7QBdzqCt9"
      },
      "execution_count": null,
      "outputs": []
    },
    {
      "cell_type": "markdown",
      "source": [
        "##### 1. Why did you pick the specific chart?"
      ],
      "metadata": {
        "id": "49WorK5b985X"
      }
    },
    {
      "cell_type": "markdown",
      "source": [
        "Bar graphs are the pictorial representation of data in the form of vertical or horizontal rectangular bars, where the length of bars are proportional to the measure of data. They are also known as bar charts. Bar graphs are one of the means of data handling in statistics. \n",
        "\n",
        "To show number of canceled hotels I used bar chart as its easy to understand data and visually appealing to get quick data insights without digging much."
      ],
      "metadata": {
        "id": "6Je5L_jj99uH"
      }
    },
    {
      "cell_type": "markdown",
      "source": [
        "##### 2. What is/are the insight(s) found from the chart?"
      ],
      "metadata": {
        "id": "lQ7QKXXCp7Bj"
      }
    },
    {
      "cell_type": "markdown",
      "source": [
        "The insights found from the chart is that number of canceled booking of hotel is less as compare to number of guest visited. The number of canceled bookings are 44224 which is less compare to overall number of guest and booking but still we need to get more details about why cancellation is done just to confirm whether it was canceled due to some other reason or any system glitch or failure of payment or any other technical aspect. Also, an another graph is created to show cancellation with respect to hotel type to understand which hotel have more cancellation rate."
      ],
      "metadata": {
        "id": "C_j1G7yiqdRP"
      }
    },
    {
      "cell_type": "markdown",
      "source": [
        "##### 3. Will the gained insights help creating a positive business impact? \n",
        "Are there any insights that lead to negative growth? Justify with specific reason."
      ],
      "metadata": {
        "id": "448CDAPjqfQr"
      }
    },
    {
      "cell_type": "markdown",
      "source": [
        "The gained insights help creating positive business impact as number of booked hotels is more than that of canceled booking, also canceled booking can help us know whether is there any common reason for cancellation or any technical issue or anything else that we can work on."
      ],
      "metadata": {
        "id": "3cspy4FjqxJW"
      }
    },
    {
      "cell_type": "markdown",
      "source": [
        "#### Chart - 3"
      ],
      "metadata": {
        "id": "KSlN3yHqYklG"
      }
    },
    {
      "cell_type": "code",
      "source": [
        "# Chart - 3 visualization code\n",
        "plt.figure(figsize=(15, 8))\n",
        "type_of_customer= df['customer_type'].value_counts()\n",
        "pie_labels=['Transient', 'Transient-Party','Contract','Group']\n",
        "palette_color = sns.color_palette('bright')\n",
        "plt.pie(type_of_customer, labels= pie_labels,colors=palette_color, autopct='%0.1f%%')"
      ],
      "metadata": {
        "id": "R4YgtaqtYklH"
      },
      "execution_count": null,
      "outputs": []
    },
    {
      "cell_type": "markdown",
      "source": [
        "##### 1. Why did you pick the specific chart?"
      ],
      "metadata": {
        "id": "t6dVpIINYklI"
      }
    },
    {
      "cell_type": "markdown",
      "source": [
        "A pie chart helps organize and show data as a percentage of a whole. True to the name, this kind of visualization uses a circle to represent the whole, and slices of that circle, or “pie”, to represent the specific categories that compose the whole.\n",
        "\n",
        "To show different type of customer in percentage form I used pie chart as it gives proper percent of each type with their value proportion in pie."
      ],
      "metadata": {
        "id": "5aaW0BYyYklI"
      }
    },
    {
      "cell_type": "markdown",
      "source": [
        "##### 2. What is/are the insight(s) found from the chart?"
      ],
      "metadata": {
        "id": "ijmpgYnKYklI"
      }
    },
    {
      "cell_type": "markdown",
      "source": [
        "The insights found from this chart is that there are 4 types of Customers, from which Transient type of customer is the highest with 82.4% followed by Transient-Party type of customer which is 13.4%. Other two types of customer are the least type of customer which are Contract with 3.6% and Group with 0.6% of customers."
      ],
      "metadata": {
        "id": "PSx9atu2YklI"
      }
    },
    {
      "cell_type": "markdown",
      "source": [
        "##### 3. Will the gained insights help creating a positive business impact? \n",
        "Are there any insights that lead to negative growth? Justify with specific reason."
      ],
      "metadata": {
        "id": "-JiQyfWJYklI"
      }
    },
    {
      "cell_type": "markdown",
      "source": [
        "The gained insights will help to manage different types of customer depending upon their requirement and booking type."
      ],
      "metadata": {
        "id": "BcBbebzrYklV"
      }
    },
    {
      "cell_type": "markdown",
      "source": [
        "#### Chart - 4"
      ],
      "metadata": {
        "id": "EM7whBJCYoAo"
      }
    },
    {
      "cell_type": "code",
      "source": [
        "# Chart - 4 visualization code\n",
        "plt.rcParams['figure.figsize'] = 8,8\n",
        "labels = df['hotel'].value_counts().index.tolist()\n",
        "sizes = df['hotel'].value_counts().tolist()\n",
        "explode = (0, 0.1)\n",
        "colors = ['magenta', 'salmon']\n",
        "plt.pie(sizes, explode=explode, labels=labels, colors=colors, autopct='%1.1f%%',startangle=90, textprops={'fontsize': 14})\n",
        "plt.show()"
      ],
      "metadata": {
        "id": "t6GMdE67YoAp"
      },
      "execution_count": null,
      "outputs": []
    },
    {
      "cell_type": "markdown",
      "source": [
        "##### 1. Why did you pick the specific chart?"
      ],
      "metadata": {
        "id": "fge-S5ZAYoAp"
      }
    },
    {
      "cell_type": "markdown",
      "source": [
        "A pie chart helps organize and show data as a percentage of a whole. True to the name, this kind of visualization uses a circle to represent the whole, and slices of that circle, or “pie”, to represent the specific categories that compose the whole.\n",
        "\n",
        "To show different type of hotel booked by customer I used pie chart as it gives proper percent of each type with their value proportion in pie."
      ],
      "metadata": {
        "id": "5dBItgRVYoAp"
      }
    },
    {
      "cell_type": "markdown",
      "source": [
        "##### 2. What is/are the insight(s) found from the chart?"
      ],
      "metadata": {
        "id": "85gYPyotYoAp"
      }
    },
    {
      "cell_type": "markdown",
      "source": [
        "From this chart we clearly understand that booking of City Hotel is way more than that of Resort Hotel. In percentage, 61.1% of booked hotels were City hotel whereas Resort hotel were 38.9%."
      ],
      "metadata": {
        "id": "4jstXR6OYoAp"
      }
    },
    {
      "cell_type": "markdown",
      "source": [
        "##### 3. Will the gained insights help creating a positive business impact? \n",
        "Are there any insights that lead to negative growth? Justify with specific reason."
      ],
      "metadata": {
        "id": "RoGjAbkUYoAp"
      }
    },
    {
      "cell_type": "markdown",
      "source": [
        "This gained insights help to understand that City hotel are preferred more over Resort hotel for making hotel bookings.\n",
        "\n"
      ],
      "metadata": {
        "id": "zfJ8IqMcYoAp"
      }
    },
    {
      "cell_type": "markdown",
      "source": [
        "#### Chart - 5"
      ],
      "metadata": {
        "id": "4Of9eVA-YrdM"
      }
    },
    {
      "cell_type": "code",
      "source": [
        "# Chart - 5 visualization code\n",
        "plt.figure(figsize=(14, 6))\n",
        "sns.countplot(x='market_segment', data=df, palette='rocket')\n",
        "plt.title('Types of market segment',fontweight=\"bold\", size=20)"
      ],
      "metadata": {
        "id": "irlUoxc8YrdO"
      },
      "execution_count": null,
      "outputs": []
    },
    {
      "cell_type": "markdown",
      "source": [
        "##### 1. Why did you pick the specific chart?"
      ],
      "metadata": {
        "id": "iky9q4vBYrdO"
      }
    },
    {
      "cell_type": "markdown",
      "source": [
        "Countplot show the counts of observations in each categorical bin using bars. A count plot can be thought of as a histogram across a categorical, instead of quantitative, variable. It uses the concept of a bar chart for the visual depiction.\n",
        "\n",
        "\n",
        "So I picked this chart as there are different type of market segment and this type of plot is perfect for viewing such types with their count value."
      ],
      "metadata": {
        "id": "aJRCwT6DYrdO"
      }
    },
    {
      "cell_type": "markdown",
      "source": [
        "##### 2. What is/are the insight(s) found from the chart?"
      ],
      "metadata": {
        "id": "F6T5p64dYrdO"
      }
    },
    {
      "cell_type": "markdown",
      "source": [
        "The insights found from this chart is that there are total 8 market segment. They are Direct, Corporate, Online TA, Online TA/TO, Complementary, Groups, Undefined, Aviation. From chart it is very clear that Online TA is the most used market segment through which booking were made."
      ],
      "metadata": {
        "id": "Xx8WAJvtYrdO"
      }
    },
    {
      "cell_type": "markdown",
      "source": [
        "##### 3. Will the gained insights help creating a positive business impact? \n",
        "Are there any insights that lead to negative growth? Justify with specific reason."
      ],
      "metadata": {
        "id": "y-Ehk30pYrdP"
      }
    },
    {
      "cell_type": "markdown",
      "source": [
        "This gained insights help to understand which market segment is most used by customers and work on other market segment as well to improve customer experience."
      ],
      "metadata": {
        "id": "jLNxxz7MYrdP"
      }
    },
    {
      "cell_type": "markdown",
      "source": [
        "#### Chart - 6"
      ],
      "metadata": {
        "id": "bamQiAODYuh1"
      }
    },
    {
      "cell_type": "code",
      "source": [
        "# Chart - 6 visualization code\n",
        "plt.figure(figsize=(14, 6))\n",
        "sns.countplot(data = df, x = 'distribution_channel',  palette='Set1_r')\n",
        "plt.title('Types of distribution channels',fontweight=\"bold\", size=20)\n",
        "plt.show"
      ],
      "metadata": {
        "id": "TIJwrbroYuh3"
      },
      "execution_count": null,
      "outputs": []
    },
    {
      "cell_type": "markdown",
      "source": [
        "##### 1. Why did you pick the specific chart?"
      ],
      "metadata": {
        "id": "QHF8YVU7Yuh3"
      }
    },
    {
      "cell_type": "markdown",
      "source": [
        "Countplot show the counts of observations in each categorical bin using bars. A count plot can be thought of as a histogram across a categorical, instead of quantitative, variable. It uses the concept of a bar chart for the visual depiction.\n",
        "\n",
        "\n",
        "So I picked this chart as there are different type of distribution channel and this type of plot is perfect for viewing such types with their count value."
      ],
      "metadata": {
        "id": "dcxuIMRPYuh3"
      }
    },
    {
      "cell_type": "markdown",
      "source": [
        "##### 2. What is/are the insight(s) found from the chart?"
      ],
      "metadata": {
        "id": "GwzvFGzlYuh3"
      }
    },
    {
      "cell_type": "markdown",
      "source": [
        "The insights found from this chart is that there are total 5 distribution channel. There are Direct, Corporate, TA/TO, Undefined, GDS. From chart it is very clear that TA/TO is the most used distribution channel through which booking were made."
      ],
      "metadata": {
        "id": "uyqkiB8YYuh3"
      }
    },
    {
      "cell_type": "markdown",
      "source": [
        "##### 3. Will the gained insights help creating a positive business impact? \n",
        "Are there any insights that lead to negative growth? Justify with specific reason."
      ],
      "metadata": {
        "id": "qYpmQ266Yuh3"
      }
    },
    {
      "cell_type": "markdown",
      "source": [
        "The insights obtained from this chart is that most used distribution channel is TA/TO. This insights does not give any negative impact but just make us understand that customer prefer to use TA/TO channel as compare to any other distribution chanels."
      ],
      "metadata": {
        "id": "_WtzZ_hCYuh4"
      }
    },
    {
      "cell_type": "markdown",
      "source": [
        "#### Chart - 7"
      ],
      "metadata": {
        "id": "OH-pJp9IphqM"
      }
    },
    {
      "cell_type": "code",
      "source": [
        "# Chart - 7 visualization code\n",
        "plt.figure( figsize=(15, 5))\n",
        "sns.countplot(x = df['meal'])\n",
        "plt.show()"
      ],
      "metadata": {
        "id": "kuRf4wtuphqN"
      },
      "execution_count": null,
      "outputs": []
    },
    {
      "cell_type": "markdown",
      "source": [
        "##### 1. Why did you pick the specific chart?"
      ],
      "metadata": {
        "id": "bbFf2-_FphqN"
      }
    },
    {
      "cell_type": "markdown",
      "source": [
        "Countplot show the counts of observations in each categorical bin using bars. A count plot can be thought of as a histogram across a categorical, instead of quantitative, variable. It uses the concept of a bar chart for the visual depiction.\n",
        "\n",
        "\n",
        "I picked this chart for visual representation as there are different meals provided in hotel but to get clear idea about most served meal this chart is used. "
      ],
      "metadata": {
        "id": "loh7H2nzphqN"
      }
    },
    {
      "cell_type": "markdown",
      "source": [
        "##### 2. What is/are the insight(s) found from the chart?"
      ],
      "metadata": {
        "id": "_ouA3fa0phqN"
      }
    },
    {
      "cell_type": "markdown",
      "source": [
        "The insight found from this chart is that there are total 5 types of meal served, which are BB(Bed & Breakfast), FB(Full Board), HB(Half Board), SC(Self Catering) and Undefined. From these all BB(Bed & Breakfast) is the most served or ordered meal whereas, FB and Undefined is the least ordered meal."
      ],
      "metadata": {
        "id": "VECbqPI7phqN"
      }
    },
    {
      "cell_type": "markdown",
      "source": [
        "##### 3. Will the gained insights help creating a positive business impact? \n",
        "Are there any insights that lead to negative growth? Justify with specific reason."
      ],
      "metadata": {
        "id": "Seke61FWphqN"
      }
    },
    {
      "cell_type": "markdown",
      "source": [
        "The gained insights help creating a positive business impact as the obtained insight make us understand that the most popular meal is BB (Bed & Breakfast) as compare to any other meals which makes it a great option for customer to select."
      ],
      "metadata": {
        "id": "DW4_bGpfphqN"
      }
    },
    {
      "cell_type": "markdown",
      "source": [
        "#### Chart - 8"
      ],
      "metadata": {
        "id": "PIIx-8_IphqN"
      }
    },
    {
      "cell_type": "code",
      "source": [
        "# Chart - 8 visualization code\n",
        "plt.figure(figsize=(14, 7))\n",
        "sns.countplot(data = df, x = 'deposit_type',hue='hotel', palette='pastel')\n",
        "plt.title('Types of Deposit type',fontweight=\"bold\", size=15)\n",
        "plt.show()"
      ],
      "metadata": {
        "id": "lqAIGUfyphqO"
      },
      "execution_count": null,
      "outputs": []
    },
    {
      "cell_type": "markdown",
      "source": [
        "##### 1. Why did you pick the specific chart?"
      ],
      "metadata": {
        "id": "t27r6nlMphqO"
      }
    },
    {
      "cell_type": "markdown",
      "source": [
        "Countplot show the counts of observations in each categorical bin using bars. It uses the concept of a bar chart for the visual depiction.The bar graph is used to compare the items between different groups over time. When the changes are larger, a bar graph is the best option to represent the data.\n",
        "\n",
        "\n",
        "I picked this chart to compare types of deposit with respect to City and Resort Hotel to understand which type of deposit is used most in both the hotels."
      ],
      "metadata": {
        "id": "iv6ro40sphqO"
      }
    },
    {
      "cell_type": "markdown",
      "source": [
        "##### 2. What is/are the insight(s) found from the chart?"
      ],
      "metadata": {
        "id": "r2jJGEOYphqO"
      }
    },
    {
      "cell_type": "markdown",
      "source": [
        "The insights found from the chart is that there are 3 types of deposit, first is No Deposit, other is Refundable and the last one is Non Refund type of deposit. By visualizing chart it is clear that people preferred No Deposit whether its for City Hotel or Resort Hotel, followed by Non Refund type of deposit. The least preferred deposit type is Refundable deposit type."
      ],
      "metadata": {
        "id": "Po6ZPi4hphqO"
      }
    },
    {
      "cell_type": "markdown",
      "source": [
        "##### 3. Will the gained insights help creating a positive business impact? \n",
        "Are there any insights that lead to negative growth? Justify with specific reason."
      ],
      "metadata": {
        "id": "b0JNsNcRphqO"
      }
    },
    {
      "cell_type": "markdown",
      "source": [
        "The gained insights make us understand that customer prefer to make booking of hotel without any deposit of payment. That means customer prefer to make booking without making any advance payment."
      ],
      "metadata": {
        "id": "xvSq8iUTphqO"
      }
    },
    {
      "cell_type": "markdown",
      "source": [
        "#### Chart - 9"
      ],
      "metadata": {
        "id": "BZR9WyysphqO"
      }
    },
    {
      "cell_type": "code",
      "source": [
        "# Chart - 9 visualization code\n",
        "plt.figure(figsize=(15,5))\n",
        "list_of_agents= df['agent'].value_counts()[:10]\n",
        "sns.barplot(y=list_of_agents,x=list_of_agents.index,orient='v',color='yellowgreen')\n",
        "plt.xlabel('List of Agents')\n",
        "plt.show()"
      ],
      "metadata": {
        "id": "TdPTWpAVphqO"
      },
      "execution_count": null,
      "outputs": []
    },
    {
      "cell_type": "markdown",
      "source": [
        "##### 1. Why did you pick the specific chart?"
      ],
      "metadata": {
        "id": "jj7wYXLtphqO"
      }
    },
    {
      "cell_type": "markdown",
      "source": [
        "Bar graphs are the pictorial representation of data in the form of vertical or horizontal rectangular bars, where the length of bars are proportional to the measure of data. They are also known as bar charts. Bar graphs are one of the means of data handling in statistics. \n",
        "\n",
        "To show list of agents through which most of the bookings where done, I used bar chart as its easy to understand data and visually appealing to get quick data insights without digging much."
      ],
      "metadata": {
        "id": "Ob8u6rCTphqO"
      }
    },
    {
      "cell_type": "markdown",
      "source": [
        "##### 2. What is/are the insight(s) found from the chart?"
      ],
      "metadata": {
        "id": "eZrbJ2SmphqO"
      }
    },
    {
      "cell_type": "markdown",
      "source": [
        "The insight found from the chart makes it clear that through Agent 9 most of the hotels were booked."
      ],
      "metadata": {
        "id": "mZtgC_hjphqO"
      }
    },
    {
      "cell_type": "markdown",
      "source": [
        "##### 3. Will the gained insights help creating a positive business impact? \n",
        "Are there any insights that lead to negative growth? Justify with specific reason."
      ],
      "metadata": {
        "id": "rFu4xreNphqO"
      }
    },
    {
      "cell_type": "markdown",
      "source": [
        "The gained insight help creating a positive business impact as it make us understand through which agent booking is maximum and which is doing well for hotel business.\n"
      ],
      "metadata": {
        "id": "ey_0qi68phqO"
      }
    },
    {
      "cell_type": "markdown",
      "source": [
        "#### Chart - 10"
      ],
      "metadata": {
        "id": "YJ55k-q6phqO"
      }
    },
    {
      "cell_type": "code",
      "source": [
        "# Chart - 10 visualization code\n",
        "plt.figure(figsize=(15, 8))\n",
        "sns.countplot(x='arrival_year',hue='hotel', data=df,palette='colorblind')\n",
        "plt.title(\"Arrivals per year in Both hotels\",fontweight=\"bold\", size=20)\n",
        "plt.show()\n"
      ],
      "metadata": {
        "id": "B2aS4O1ophqO"
      },
      "execution_count": null,
      "outputs": []
    },
    {
      "cell_type": "markdown",
      "source": [
        "##### 1. Why did you pick the specific chart?"
      ],
      "metadata": {
        "id": "gCFgpxoyphqP"
      }
    },
    {
      "cell_type": "markdown",
      "source": [
        "Countplot show the counts of observations in each categorical bin using bars. It uses the concept of a bar chart for the visual depiction.The bar graph is used to compare the items between different groups over time. When the changes are larger, a bar graph is the best option to represent the data.\n",
        "\n",
        "\n",
        "I picked this chart to compare arrival of customer with respect to City and Resort Hotel to understand in which year most of the booking was done."
      ],
      "metadata": {
        "id": "TVxDimi2phqP"
      }
    },
    {
      "cell_type": "markdown",
      "source": [
        "##### 2. What is/are the insight(s) found from the chart?\n",
        "\n"
      ],
      "metadata": {
        "id": "OVtJsKN_phqQ"
      }
    },
    {
      "cell_type": "markdown",
      "source": [
        "The insights found from the chart is that most of the people visited both City and Resort hotel in year 2016 followed by 2017 year. The least people visited hotel in the year of 2015."
      ],
      "metadata": {
        "id": "ngGi97qjphqQ"
      }
    },
    {
      "cell_type": "markdown",
      "source": [
        "##### 3. Will the gained insights help creating a positive business impact? \n",
        "Are there any insights that lead to negative growth? Justify with specific reason."
      ],
      "metadata": {
        "id": "lssrdh5qphqQ"
      }
    },
    {
      "cell_type": "markdown",
      "source": [
        "The gained insight make us understand that in year 2016 most people preferred to book hotels followed by 2017 year and the least booking was done in year 2015, that simply suggests that business was better than last year of 2015 but still seem a downfall in year 2017."
      ],
      "metadata": {
        "id": "tBpY5ekJphqQ"
      }
    },
    {
      "cell_type": "markdown",
      "source": [
        "#### Chart - 11"
      ],
      "metadata": {
        "id": "U2RJ9gkRphqQ"
      }
    },
    {
      "cell_type": "code",
      "source": [
        "# Chart - 11 visualization code\n",
        "plt.figure(figsize=(15, 8))\n",
        "sns.countplot(data = df, x = 'arrival_month')\n",
        "plt.title('Arrivals per month',fontweight=\"bold\", size=20)\n",
        "plt.show()"
      ],
      "metadata": {
        "id": "GM7a4YP4phqQ"
      },
      "execution_count": null,
      "outputs": []
    },
    {
      "cell_type": "markdown",
      "source": [
        "##### 1. Why did you pick the specific chart?"
      ],
      "metadata": {
        "id": "Eukykur8mUsI"
      }
    },
    {
      "cell_type": "markdown",
      "source": [
        "Countplot show the counts of observations in each categorical bin using bars. It uses the concept of a bar chart for the visual depiction.The bar graph is used to compare the items between different groups over time. When the changes are larger, a bar graph is the best option to represent the data.\n",
        "\n",
        "\n",
        "I picked this chart to compare arrival of customers with respect to month to check in which month most of the customers arrived or made booking."
      ],
      "metadata": {
        "id": "NCak1CJHmVef"
      }
    },
    {
      "cell_type": "markdown",
      "source": [
        "##### 2. What is/are the insight(s) found from the chart?\n"
      ],
      "metadata": {
        "id": "1jmnAaGnmVxc"
      }
    },
    {
      "cell_type": "markdown",
      "source": [
        "The insights found from the chart is that most of the people visited Hotel in month of July-August and least people visited hotel in month of January. This chart can give clear idea about when most of the people visits hotel."
      ],
      "metadata": {
        "id": "2GU-zsnMmV5X"
      }
    },
    {
      "cell_type": "markdown",
      "source": [
        "##### 3. Will the gained insights help creating a positive business impact? \n",
        "Are there any insights that lead to negative growth? Justify with specific reason."
      ],
      "metadata": {
        "id": "myLkY-G5mWAp"
      }
    },
    {
      "cell_type": "markdown",
      "source": [
        "The gained insight make us understand that in July & August month most of the bookings were made which means some offers/ discount were provided during these months or due to holidays most booking were done. Also need to work on those same factors to improve booking in other months as well."
      ],
      "metadata": {
        "id": "8iZtlasOmhYO"
      }
    },
    {
      "cell_type": "markdown",
      "source": [
        "#### Chart - 12"
      ],
      "metadata": {
        "id": "EHX6AvqqI_rQ"
      }
    },
    {
      "cell_type": "code",
      "source": [
        "# Chart - 12 visualization code\n",
        "plt.figure(figsize=(18, 9))\n",
        "plt.subplot(1,2,1)\n",
        "sns.countplot(data = df, x = 'children',hue='hotel',palette='dark')\n",
        "plt.title('Arrival of children in both hotels',fontweight=\"bold\", size=20)\n",
        "plt.subplot(1,2,2)\n",
        "sns.countplot(data=df,x='adults',hue='hotel',palette='colorblind')\n",
        "plt.title('Arrival of adults in both hotels',fontweight=\"bold\",size=20)\n",
        "plt.subplots_adjust(right=2)\n",
        "plt.show()\n",
        "plt.subplot(2,1,1)\n",
        "sns.countplot(data=df,x='babies',hue='hotel',palette='bright')\n",
        "plt.title('Arrival of babies in both hotels',fontweight=\"bold\",size=20)\n",
        "plt.show()"
      ],
      "metadata": {
        "id": "GOVle8IuT-0l"
      },
      "execution_count": null,
      "outputs": []
    },
    {
      "cell_type": "markdown",
      "source": [
        "##### 1. Why did you pick the specific chart?"
      ],
      "metadata": {
        "id": "2Oz9oQXimw2i"
      }
    },
    {
      "cell_type": "markdown",
      "source": [
        "Countplot show the counts of observations in each categorical bin using bars. It uses the concept of a bar chart for the visual depiction.The bar graph is used to compare the items between different groups over time. When the changes are larger, a bar graph is the best option to represent the data.\n",
        "\n",
        "\n",
        "I picked this chart to compare arrival of children,adults & babies with respect to both hotels to check which age group is most likely to arrive in both hotels."
      ],
      "metadata": {
        "id": "rKUHewSzmylk"
      }
    },
    {
      "cell_type": "markdown",
      "source": [
        "##### 2. What is/are the insight(s) found from the chart?\n"
      ],
      "metadata": {
        "id": "q7571_DXmy4k"
      }
    },
    {
      "cell_type": "markdown",
      "source": [
        "The insights found from the chart is that adults are most likely to make arrival in both the hotels, also couple i.e. minimum of 2 adults are the most arriving customers in both the hotels."
      ],
      "metadata": {
        "id": "WzW5BADKmzIU"
      }
    },
    {
      "cell_type": "markdown",
      "source": [
        "##### 3. Will the gained insights help creating a positive business impact? \n",
        "Are there any insights that lead to negative growth? Justify with specific reason."
      ],
      "metadata": {
        "id": "ddV7pl-nmzWO"
      }
    },
    {
      "cell_type": "markdown",
      "source": [
        "The gained insight make us understand that adult age group are most likely to visit the hotels, specially couple (minimum 2 number of adults) are most likely to visit both the hotels. This will help to understand target group and will help to work for other age group as well, and introduce new offers or discounts for couple to increase arrival of customers."
      ],
      "metadata": {
        "id": "1Pfodo5kmzku"
      }
    },
    {
      "cell_type": "markdown",
      "source": [
        "#### Chart - 13"
      ],
      "metadata": {
        "id": "mZXTdam5JJ-M"
      }
    },
    {
      "cell_type": "code",
      "source": [
        "# Chart - 13 visualization code\n",
        "plt.figure(figsize=(18, 9))\n",
        "sns.countplot(data = df, x = 'reserved_room_type',hue='hotel',palette='dark')\n",
        "plt.title('Reserved Room types in both hotels',fontweight=\"bold\", size=20)\n",
        "plt.show()"
      ],
      "metadata": {
        "id": "lR0TEpA0h4zw"
      },
      "execution_count": null,
      "outputs": []
    },
    {
      "cell_type": "markdown",
      "source": [
        "##### 1. Why did you pick the specific chart?"
      ],
      "metadata": {
        "id": "s87HzMUim04e"
      }
    },
    {
      "cell_type": "markdown",
      "source": [
        "Countplot show the counts of observations in each categorical bin using bars. It uses the concept of a bar chart for the visual depiction.The bar graph is used to compare the items between different groups over time. When the changes are larger, a bar graph is the best option to represent the data.\n",
        "\n",
        "\n",
        "I picked this chart to compare reserved room types with respect to both hotels to check which room type is most preferred in both hotels."
      ],
      "metadata": {
        "id": "HmEtnxNzm1Me"
      }
    },
    {
      "cell_type": "markdown",
      "source": [
        "##### 2. What is/are the insight(s) found from the chart?\n"
      ],
      "metadata": {
        "id": "JnEBP-FBm1ac"
      }
    },
    {
      "cell_type": "markdown",
      "source": [
        "The insights found from the chart is that most reserved room type is A room type, that means customer prefers to stay in A room type, followed by D,E room types."
      ],
      "metadata": {
        "id": "iK6lh3HZm1n5"
      }
    },
    {
      "cell_type": "markdown",
      "source": [
        "##### 3. Will the gained insights help creating a positive business impact? \n",
        "Are there any insights that lead to negative growth? Justify with specific reason."
      ],
      "metadata": {
        "id": "FPP9Hui7m131"
      }
    },
    {
      "cell_type": "markdown",
      "source": [
        "The gained insight make us understand that room type A is high in demand as compare to any other room type, after room type A the room which are high in demand are D & E. This helps to understand that hotel needs to increase A room type or provide almost same services or benefits as per room type A to other room types as well."
      ],
      "metadata": {
        "id": "JEJkem3Gm2Ep"
      }
    },
    {
      "cell_type": "markdown",
      "source": [
        "#### Chart - 14"
      ],
      "metadata": {
        "id": "-c62-CUxUaDx"
      }
    },
    {
      "cell_type": "code",
      "source": [
        "# Chart - 14 visualization code\n",
        "plt.figure(figsize=(14,7))\n",
        "sns.countplot(x='assigned_room_type',hue='hotel',data=df,palette='coolwarm')\n",
        "plt.title('Most Assigned Room type in both hotels',fontweight='bold',size=20)\n",
        "plt.show()"
      ],
      "metadata": {
        "id": "ORSbpGkris9x"
      },
      "execution_count": null,
      "outputs": []
    },
    {
      "cell_type": "markdown",
      "source": [
        "##### 1. Why did you pick the specific chart?"
      ],
      "metadata": {
        "id": "pjphmRYSnE3o"
      }
    },
    {
      "cell_type": "markdown",
      "source": [
        "Countplot show the counts of observations in each categorical bin using bars. It uses the concept of a bar chart for the visual depiction.The bar graph is used to compare the items between different groups over time. When the changes are larger, a bar graph is the best option to represent the data.\n",
        "\n",
        "\n",
        "I picked this chart to compare assigned room types with respect to both hotels to check which room type is most assigned room type in both hotels."
      ],
      "metadata": {
        "id": "WdQlluClnFn7"
      }
    },
    {
      "cell_type": "markdown",
      "source": [
        "##### 2. What is/are the insight(s) found from the chart?\n"
      ],
      "metadata": {
        "id": "ajKxvDIpnFag"
      }
    },
    {
      "cell_type": "markdown",
      "source": [
        "The insights found from the chart is that most assigned room type is A room type, followed by D,E room types. That means assigned room type follows the trend of reserved room types."
      ],
      "metadata": {
        "id": "kMnzuGLznFNW"
      }
    },
    {
      "cell_type": "markdown",
      "source": [
        "##### 3. Will the gained insights help creating a positive business impact? \n",
        "Are there any insights that lead to negative growth? Justify with specific reason."
      ],
      "metadata": {
        "id": "gNu0eY55nF0Z"
      }
    },
    {
      "cell_type": "markdown",
      "source": [
        "The gained insight make us understand that room type A is most assigned room as well as compare to any other room type as reserved room type in demand is room type A, after room type A the room which are high in demand are D & E. This helps to understand that hotel needs to increase A room type or provide almost same services or benefits as per room type A to other room types as well. It is clear that most assigned room type follow the same trend while booking as reserved room type."
      ],
      "metadata": {
        "id": "7gLMlRpmnGBx"
      }
    },
    {
      "cell_type": "markdown",
      "source": [
        "#### Chart - 15"
      ],
      "metadata": {
        "id": "y3gaSHIaUc2e"
      }
    },
    {
      "cell_type": "code",
      "source": [
        "# Chart - 15 visualization code\n",
        "plt.figure(figsize=(18, 9))\n",
        "sns.countplot(data = df, x = 'total_stays',hue='hotel',palette='mako')\n",
        "plt.title('Total Stays in both hotels',fontweight=\"bold\", size=20)\n",
        "plt.show()"
      ],
      "metadata": {
        "id": "ZuKKeoEBkLq9"
      },
      "execution_count": null,
      "outputs": []
    },
    {
      "cell_type": "markdown",
      "source": [
        "##### 1. Why did you pick the specific chart?"
      ],
      "metadata": {
        "id": "eBBIFIPbm3Uq"
      }
    },
    {
      "cell_type": "markdown",
      "source": [
        "Countplot show the counts of observations in each categorical bin using bars. It uses the concept of a bar chart for the visual depiction.The bar graph is used to compare the items between different groups over time. When the changes are larger, a bar graph is the best option to represent the data.\n",
        "\n",
        "\n",
        "I picked this chart to compare total stay with respect to both hotels to check how long customers preferred to stay in both hotels."
      ],
      "metadata": {
        "id": "XZn-tbTZm3oM"
      }
    },
    {
      "cell_type": "markdown",
      "source": [
        "##### 2. What is/are the insight(s) found from the chart?\n"
      ],
      "metadata": {
        "id": "qzPtJZJom34Z"
      }
    },
    {
      "cell_type": "markdown",
      "source": [
        "The insights found from the chart help us to understand that customers tends to stay as long as 4 days in both the hotels, mostly customer don't prefer to stay more than 4 days in both hotels."
      ],
      "metadata": {
        "id": "wVqRp0AJm4Gk"
      }
    },
    {
      "cell_type": "markdown",
      "source": [
        "##### 3. Will the gained insights help creating a positive business impact? \n",
        "Are there any insights that lead to negative growth? Justify with specific reason."
      ],
      "metadata": {
        "id": "qXrk13tYm4Vt"
      }
    },
    {
      "cell_type": "markdown",
      "source": [
        "The gained insights help creating a positive business impact as it shows that mostly customer prefer to stay for few days in both hotel, the hotel owner must have a look in stay discount or what are the other factors that gives a common count of stay for maximum customer."
      ],
      "metadata": {
        "id": "43K0yAgfm4km"
      }
    },
    {
      "cell_type": "markdown",
      "source": [
        "#### Chart - 16"
      ],
      "metadata": {
        "id": "bFqxPXI2UhQS"
      }
    },
    {
      "cell_type": "code",
      "source": [
        "# Chart - 16 visualization code\n",
        "plt.figure(figsize=(18, 9))\n",
        "sns.countplot(data = df, x = 'stays_in_week_nights',hue='hotel',palette='viridis')\n",
        "plt.title('Week Night Stays in both hotels',fontweight=\"bold\", size=20)\n",
        "plt.show()"
      ],
      "metadata": {
        "id": "mYKF-EOMk9W9"
      },
      "execution_count": null,
      "outputs": []
    },
    {
      "cell_type": "code",
      "source": [
        "# Chart - 16 visualization code\n",
        "plt.figure(figsize=(18, 9))\n",
        "sns.countplot(data = df, x = 'stays_in_weekend_nights',hue='hotel',palette='cubehelix')\n",
        "plt.title('Weekend Night Stays in both hotels',fontweight=\"bold\", size=20)\n",
        "plt.show()"
      ],
      "metadata": {
        "id": "cJubG90lnRzf"
      },
      "execution_count": null,
      "outputs": []
    },
    {
      "cell_type": "markdown",
      "source": [
        "##### 1. Why did you pick the specific chart?"
      ],
      "metadata": {
        "id": "duWnwBAYnLMZ"
      }
    },
    {
      "cell_type": "markdown",
      "source": [
        "Countplot show the counts of observations in each categorical bin using bars. It uses the concept of a bar chart for the visual depiction.The bar graph is used to compare the items between different groups over time. When the changes are larger, a bar graph is the best option to represent the data.\n",
        "\n",
        "\n",
        "I picked this chart to compare stay in week nights and weekend nights with respect to both hotels to check how long customer prefer to stay in weekend night and week night."
      ],
      "metadata": {
        "id": "_oM9UqNTnLgW"
      }
    },
    {
      "cell_type": "markdown",
      "source": [
        "##### 2. What is/are the insight(s) found from the chart?\n"
      ],
      "metadata": {
        "id": "oEEy3ChlnLur"
      }
    },
    {
      "cell_type": "markdown",
      "source": [
        "The insights found from the chart help us to understand that customers tends to stay as long as 3 days in week nights in both the hotels whereas customers prefer to stay only 1-2 days in weekend nights. "
      ],
      "metadata": {
        "id": "wNPe35xnnL9b"
      }
    },
    {
      "cell_type": "markdown",
      "source": [
        "##### 3. Will the gained insights help creating a positive business impact? \n",
        "Are there any insights that lead to negative growth? Justify with specific reason."
      ],
      "metadata": {
        "id": "LEXZzO6rnMMJ"
      }
    },
    {
      "cell_type": "markdown",
      "source": [
        "The gained insights help us to understand that most of the customer tends to stay 1-4 days in hotels. This gives an idea about total stay of customer on an average, this count will help to take better future decisions and make some amazing plans for customer for a longer stay."
      ],
      "metadata": {
        "id": "wcO8mnlqnMW9"
      }
    },
    {
      "cell_type": "markdown",
      "source": [
        "#### Chart - 17"
      ],
      "metadata": {
        "id": "x2bAvYIgUktQ"
      }
    },
    {
      "cell_type": "code",
      "source": [
        "# Chart - 17 visualization code\n",
        "plt.figure(figsize=(14, 7))\n",
        "sns.lineplot(data = df, x = 'arrival_month',y='adr', palette='pastel')\n",
        "plt.title('ADR with respect to arrival month',fontweight=\"bold\", size=15)\n",
        "plt.show()"
      ],
      "metadata": {
        "id": "5HrlWXyXAwTE"
      },
      "execution_count": null,
      "outputs": []
    },
    {
      "cell_type": "code",
      "source": [
        "# Chart - 17 visualization code\n",
        "plt.figure(figsize=(14, 7))\n",
        "sns.lineplot(data = df, x = 'arrival_day_of_month',y='adr', palette='pastel')\n",
        "plt.title('ADR with respect to day',fontweight=\"bold\", size=15)\n",
        "plt.show()"
      ],
      "metadata": {
        "id": "jS3d4JiEGIP2"
      },
      "execution_count": null,
      "outputs": []
    },
    {
      "cell_type": "markdown",
      "source": [
        "##### 1. Why did you pick the specific chart?"
      ],
      "metadata": {
        "id": "1M8mcRywphqQ"
      }
    },
    {
      "cell_type": "markdown",
      "source": [
        "A line chart is a graphical representation of an asset's historical price action that connects a series of data points with a continuous line. The relationship between two sets of data, X and Y, is shown using line plots on a distinct axis.\n",
        "\n",
        "I picked this chart to compare average daily rate (adr) with respect to arrival of customer per month and per day."
      ],
      "metadata": {
        "id": "8agQvks0phqQ"
      }
    },
    {
      "cell_type": "markdown",
      "source": [
        "##### 2. What is/are the insight(s) found from the chart?"
      ],
      "metadata": {
        "id": "tgIPom80phqQ"
      }
    },
    {
      "cell_type": "markdown",
      "source": [
        "The insights found from the chart is that average daily rate (adr) is directly proportional to number of customers arrived per month. Higher number of customer gives higher average daily rate(adr). In the second chart we can see adr is slightly higher in end of month."
      ],
      "metadata": {
        "id": "Qp13pnNzphqQ"
      }
    },
    {
      "cell_type": "markdown",
      "source": [
        "#### Chart - 18"
      ],
      "metadata": {
        "id": "x-EpHcCOp1ci"
      }
    },
    {
      "cell_type": "code",
      "source": [
        "# Chart - 18 visualization code\n",
        "plt.figure(figsize = (12,6))\n",
        "sns.scatterplot(x = 'adr', y = 'total_stays', hue='hotel',data = df)\n",
        "plt.title('Total Stays of Customer with respect to ADR')\n",
        "plt.show()"
      ],
      "metadata": {
        "id": "mAQTIvtqp1cj"
      },
      "execution_count": null,
      "outputs": []
    },
    {
      "cell_type": "markdown",
      "source": [
        "##### 1. Why did you pick the specific chart?"
      ],
      "metadata": {
        "id": "X_VqEhTip1ck"
      }
    },
    {
      "cell_type": "markdown",
      "source": [
        "Scatter plots are used to plot data points on a horizontal and a vertical axis in the attempt to show how much one variable is affected by another. Each member of the dataset gets plotted as a point whose x-y coordinates relates to its values for the two variables.\n",
        "\n",
        "Thus, I have used the scatter plot to depict the relationship between total stays and adr.\n"
      ],
      "metadata": {
        "id": "-vsMzt_np1ck"
      }
    },
    {
      "cell_type": "markdown",
      "source": [
        "##### 2. What is/are the insight(s) found from the chart?"
      ],
      "metadata": {
        "id": "8zGJKyg5p1ck"
      }
    },
    {
      "cell_type": "markdown",
      "source": [
        "The insights found from the chart help us to understand that there is linear relationship between total stays and adr as cluster formed can be seen in plot. Also it can be observe that there is outlier present too which does not follow the general trend pattern. It is clear from graph that there is outlier present which can be removed for better data handling."
      ],
      "metadata": {
        "id": "ZYdMsrqVp1ck"
      }
    },
    {
      "cell_type": "markdown",
      "source": [
        "##### 3. Will the gained insights help creating a positive business impact? \n",
        "Are there any insights that lead to negative growth? Justify with specific reason."
      ],
      "metadata": {
        "id": "PVzmfK_Ep1ck"
      }
    },
    {
      "cell_type": "markdown",
      "source": [
        "The gained insights help us to understand trend between both total stays and average daily rate(adr) which shows some general pattern while comparing both."
      ],
      "metadata": {
        "id": "druuKYZpp1ck"
      }
    },
    {
      "cell_type": "markdown",
      "source": [
        "#### Chart - 19"
      ],
      "metadata": {
        "id": "n3dbpmDWp1ck"
      }
    },
    {
      "cell_type": "code",
      "source": [
        "# Chart - 19 visualization code\n",
        "plt.figure(figsize=(12, 6))\n",
        "sns.countplot(x='arrival_day_of_month',hue='hotel', data=df,palette='rainbow_r')\n",
        "plt.title(\"Total number of arrival per day in Both hotels\",fontweight=\"bold\", size=20)\n",
        "plt.show()"
      ],
      "metadata": {
        "id": "bwevp1tKp1ck"
      },
      "execution_count": null,
      "outputs": []
    },
    {
      "cell_type": "markdown",
      "source": [
        "##### 1. Why did you pick the specific chart?"
      ],
      "metadata": {
        "id": "ylSl6qgtp1ck"
      }
    },
    {
      "cell_type": "markdown",
      "source": [
        "Countplot show the counts of observations in each categorical bin using bars. It uses the concept of a bar chart for the visual depiction.The bar graph is used to compare the items between different groups over time. When the changes are larger, a bar graph is the best option to represent the data.\n",
        "\n",
        "\n",
        "I picked this chart to compare arrival of customer with respect to City and Resort Hotel to understand on which day most bookings were done."
      ],
      "metadata": {
        "id": "m2xqNkiQp1ck"
      }
    },
    {
      "cell_type": "markdown",
      "source": [
        "##### 2. What is/are the insight(s) found from the chart?"
      ],
      "metadata": {
        "id": "ZWILFDl5p1ck"
      }
    },
    {
      "cell_type": "markdown",
      "source": [
        "The insighs found from the chart helps us to understand on which day most of the bookings were done. As it is clear from chart bookings were done in each day of month and there is no such major difference between each day booking, it can be considered from graph that each day have different number of booking. On 2nd and 17th date of month most of the bookings were done. On 31st of month least of the bookings were made as its the last day of month."
      ],
      "metadata": {
        "id": "x-lUsV2mp1ck"
      }
    },
    {
      "cell_type": "markdown",
      "source": [
        "#### Chart - 20"
      ],
      "metadata": {
        "id": "Ag9LCva-p1cl"
      }
    },
    {
      "cell_type": "code",
      "source": [
        "# Chart - 20 visualization code\n",
        "plt.figure(figsize=(15, 8))\n",
        "sns.boxplot(x='market_segment', y='total_stays',hue='hotel', data=df,palette='rocket',saturation =0.9)\n",
        "plt.title(\"Total stays wrt market segment in Both hotels\",fontweight=\"bold\", size=20)\n",
        "plt.show()"
      ],
      "metadata": {
        "id": "EUfxeq9-p1cl"
      },
      "execution_count": null,
      "outputs": []
    },
    {
      "cell_type": "code",
      "source": [
        "# Chart - 20 visualization code\n",
        "plt.figure(figsize=(15, 8))\n",
        "sns.boxplot(x='total_number_of_guests', y='total_stays',hue='hotel', data=df,palette='magma_r',saturation =0.9)\n",
        "plt.title(\"Total number of guests wrt total stays in Both hotels\",fontweight=\"bold\", size=20)\n",
        "plt.show()"
      ],
      "metadata": {
        "id": "0cup-FtBaeZE"
      },
      "execution_count": null,
      "outputs": []
    },
    {
      "cell_type": "code",
      "source": [
        "# Chart - 20 visualization code\n",
        "plt.figure(figsize=(15, 8))\n",
        "sns.boxplot(x='market_segment', y='total_stays',hue='is_canceled', data=df,palette='husl',saturation =0.9)\n",
        "plt.title(\"Total stays wrt market segment\",fontweight=\"bold\", size=20)\n",
        "plt.show()"
      ],
      "metadata": {
        "id": "tIiwaKUWb2ri"
      },
      "execution_count": null,
      "outputs": []
    },
    {
      "cell_type": "markdown",
      "source": [
        "##### 1. Why did you pick the specific chart?"
      ],
      "metadata": {
        "id": "vOn3yrJreGcO"
      }
    },
    {
      "cell_type": "markdown",
      "source": [
        "Box and whisker plots, sometimes known as box plots, are a great chart to use when showing the distribution of data points across a selected measure. These charts display ranges within variables measured. This includes the outliers, the median, the mode, and where the majority of the data points lie in the “box”"
      ],
      "metadata": {
        "id": "7kbSRFMIeIPE"
      }
    },
    {
      "cell_type": "markdown",
      "source": [
        "##### 2. What is/are the insight(s) found from the chart?"
      ],
      "metadata": {
        "id": "Ih_h5YOGeNdg"
      }
    },
    {
      "cell_type": "markdown",
      "source": [
        "The insights found from the above charts help us to identify high level information at a glance to offer general information about data group. It can be seen that in total 3 boxplot graphs are plotted.\n",
        "\n",
        "The very first boxplot is of total stays wrt market segment in Both hotels, from plotted graph it is clear that values are distributed linearly and some outliers can be found.\n",
        "\n",
        "The second boxplot is of total number of guests wrt total stays in Both hotels,from plotted graph it is clear that values are positively linear distributed also in some case there is no outliers and in some values outliers can be seen. Like in 'total number of guests' of 5 guests there is no outlier present. In 1,2 & 4 number of guests outliers can be clearly seen.\n",
        "\n",
        "The third boxplot is of total stays wrt market segment shows distribution of values with outliers as well."
      ],
      "metadata": {
        "id": "FianTVhWeOUi"
      }
    },
    {
      "cell_type": "code",
      "source": [
        "# Chart - 20 visualization code\n",
        "plt.figure(figsize=(15, 8))\n",
        "sns.boxplot(x='arrival_year', y='lead_time',hue='hotel', data=df,palette='cool',saturation =0.9)\n",
        "plt.title(\"Lead time wrt yearly arrival in Both hotels\",fontweight=\"bold\", size=20)\n",
        "plt.show()"
      ],
      "metadata": {
        "id": "Ts-d7gyCbiq9"
      },
      "execution_count": null,
      "outputs": []
    },
    {
      "cell_type": "markdown",
      "source": [
        "##### 1. Why did you pick the specific chart?"
      ],
      "metadata": {
        "id": "LqufiocKelUF"
      }
    },
    {
      "cell_type": "markdown",
      "source": [
        "Box and whisker plots, sometimes known as box plots, are a great chart to use when showing the distribution of data points across a selected measure. These charts display ranges within variables measured. This includes the outliers, the median, the mode, and where the majority of the data points lie in the “box”"
      ],
      "metadata": {
        "id": "4c2GQA_Geneb"
      }
    },
    {
      "cell_type": "markdown",
      "source": [
        "##### 2. What is/are the insight(s) found from the chart?"
      ],
      "metadata": {
        "id": "YimkQUC3ejKo"
      }
    },
    {
      "cell_type": "markdown",
      "source": [
        "The insights found from the above charts help us to identify high level information at a glance to offer general information about data group. The graph is of Lead time wrt yearly arrival in Both hotels. As it is clear from above graphs that there are outliers present in every arrival year."
      ],
      "metadata": {
        "id": "gH10spTVe4To"
      }
    },
    {
      "cell_type": "code",
      "source": [
        "# Chart - 20 visualization code\n",
        "plt.figure(figsize=(15, 8))\n",
        "sns.barplot(x='arrival_year',y='lead_time',hue='reservation_status',data=df,palette='magma')\n",
        "plt.title('Arrivals per year wrt lead time showing status',fontweight=\"bold\", size=20)\n",
        "plt.show()"
      ],
      "metadata": {
        "id": "mKfKGo8fKvej"
      },
      "execution_count": null,
      "outputs": []
    },
    {
      "cell_type": "markdown",
      "source": [
        "##### 1. Why did you pick the specific chart?"
      ],
      "metadata": {
        "id": "E6MkPsBcp1cl"
      }
    },
    {
      "cell_type": "markdown",
      "source": [
        "Bar graphs are the pictorial representation of data in the form of vertical or horizontal rectangular bars, where the length of bars are proportional to the measure of data. They are also known as bar charts. Bar graphs are one of the means of data handling in statistics. \n",
        "\n",
        "To show comparion between arival year with respect to lead time showing reservation status, I used bar chart as its easy to understand data and visually appealing to get quick data insights without digging much."
      ],
      "metadata": {
        "id": "V22bRsFWp1cl"
      }
    },
    {
      "cell_type": "markdown",
      "source": [
        "##### 2. What is/are the insight(s) found from the chart?"
      ],
      "metadata": {
        "id": "2cELzS2fp1cl"
      }
    },
    {
      "cell_type": "markdown",
      "source": [
        "The above graph is of arrivals per year wrt lead time showing status. The insights found from the chart makes it clear that if lead time is more than 80 to 100 then most bookings leads to cancellation. Lead time less than 80 makes sure that most bookings leads to checkout."
      ],
      "metadata": {
        "id": "ozQPc2_Ip1cl"
      }
    },
    {
      "cell_type": "markdown",
      "source": [
        "#### Chart - 21 - Correlation Heatmap"
      ],
      "metadata": {
        "id": "NC_X3p0fY2L0"
      }
    },
    {
      "cell_type": "code",
      "source": [
        "# Chart - 21 visualization code\n",
        "# Correlation Heatmap visualization code\n",
        "data=df[['adr','adults','agent','arrival_day_of_month','arrival_month','arrival_week_number','arrival_year','assigned_room_type','babies','booking_changes','children','company','country','customer_type','days_in_waiting_list','deposit_type','distribution_channel','hotel','is_canceled','is_repeated_guest','lead_time','market_segment','meal','previous_bookings_not_canceled','previous_cancellations','required_car_parking_spaces','reservation_status','reservation_status_date','reserved_room_type','stays_in_week_nights','stays_in_weekend_nights','total_number_of_guests','total_of_special_requests','total_stays']]\n",
        "correlation_data=data.corr()\n",
        "f, ax = plt.subplots(figsize=(12, 10))\n",
        "cmap = sns.diverging_palette(230, 20, as_cmap=True)\n",
        "sns.heatmap(correlation_data,annot=True,fmt='.2f', annot_kws={'size': 10},vmax=.8, square=True)"
      ],
      "metadata": {
        "id": "xyC9zolEZNRQ"
      },
      "execution_count": null,
      "outputs": []
    },
    {
      "cell_type": "markdown",
      "source": [
        "##### 1. Why did you pick the specific chart?"
      ],
      "metadata": {
        "id": "UV0SzAkaZNRQ"
      }
    },
    {
      "cell_type": "markdown",
      "source": [
        "Correlation heatmaps are a type of plot that visualize the strength of relationships between numerical variables. Correlation plots are used to understand which variables are related to each other and the strength of this relationship.\n",
        "\n",
        "The correlation matrix provides us with an indication of how well (or not so well) each feature is correlated with each other.\n",
        "\n",
        "Thus, I used this correlation heatmap to find correlation between all the variables along with correlation coefficient."
      ],
      "metadata": {
        "id": "DVPuT8LYZNRQ"
      }
    },
    {
      "cell_type": "markdown",
      "source": [
        "##### 2. What is/are the insight(s) found from the chart?"
      ],
      "metadata": {
        "id": "YPEH6qLeZNRQ"
      }
    },
    {
      "cell_type": "markdown",
      "source": [
        "From the above correlation heatmap, we can see that there is correlation between adults, total number of guests, total stays, stays in week nights, stays in weekend nights and total stays.\n",
        "\n",
        "There is no linear trend between arrival year and arrival week number, total of special request and is canceled."
      ],
      "metadata": {
        "id": "bfSqtnDqZNRR"
      }
    },
    {
      "cell_type": "markdown",
      "source": [
        "#### Chart - 22 - Pair Plot "
      ],
      "metadata": {
        "id": "q29F0dvdveiT"
      }
    },
    {
      "cell_type": "code",
      "source": [
        "# Chart - 22 visualization code\n",
        "# Pair Plot visualization code\n",
        "sns.pairplot(df)\n",
        "plt.show()"
      ],
      "metadata": {
        "id": "o58-TEIhveiU"
      },
      "execution_count": null,
      "outputs": []
    },
    {
      "cell_type": "code",
      "source": [
        "from seaborn.distributions import KDE\n",
        "# Pair Plot visualization code\n",
        "column_plot=['arrival_year','lead_time','total_stays','total_number_of_guests','hotel']\n",
        "sns.pairplot(df[column_plot],kind='reg', diag_kind=KDE,hue='hotel',plot_kws={'line_kws':{'color':'red'}})"
      ],
      "metadata": {
        "id": "gW3afe_UAPHf"
      },
      "execution_count": null,
      "outputs": []
    },
    {
      "cell_type": "markdown",
      "source": [
        "##### 1. Why did you pick the specific chart?"
      ],
      "metadata": {
        "id": "EXh0U9oCveiU"
      }
    },
    {
      "cell_type": "markdown",
      "source": [
        "Pairplot visualizes given data to find the relationship between them where the variables can be continuous or categorical. Plot pairwise relationships in a data-set.\n",
        "\n",
        "The very first pairplot is of entire dataset in which each variable is plotted. The plots are in matrix in which column name represents y axis and row name represents x axis. Pairplot is used to understand best set of features to explain relationship between two variables.\n",
        "\n",
        "The second pairplot is of some variable just to show that pairplot can also be plotted between few columns."
      ],
      "metadata": {
        "id": "eMmPjTByveiU"
      }
    },
    {
      "cell_type": "markdown",
      "source": [
        "##### 2. What is/are the insight(s) found from the chart?"
      ],
      "metadata": {
        "id": "22aHeOlLveiV"
      }
    },
    {
      "cell_type": "markdown",
      "source": [
        "The pairplot basically plots the relationship between every column in dataframe, entire dataframe is plotted. Plots between each column take place in pairplot and a big plot is created to compare overall relationship between each column. In the pairplot of entire dataframe we can observe linear relationship between some columns, also clusters can be seen in leadtime with arrival week number, arrival day of month,stay in week nights, stay in weekend nights, agent, company,total stays, agent & company with arrival week number, arrival day of month. Outliers can be seen in adr and arrival week number,arrival month, day, lead time. Rest insights can be drawn between other columns with that pairplot itself.\n"
      ],
      "metadata": {
        "id": "uPQ8RGwHveiV"
      }
    },
    {
      "cell_type": "markdown",
      "source": [
        "## **5. Solution to Business Objective**"
      ],
      "metadata": {
        "id": "JcMwzZxoAimU"
      }
    },
    {
      "cell_type": "markdown",
      "source": [
        "#### What do you suggest the client to achieve Business Objective ? \n",
        "Explain Briefly."
      ],
      "metadata": {
        "id": "8G2x9gOozGDZ"
      }
    },
    {
      "cell_type": "markdown",
      "source": [
        "1.It was observed that most of the bookings were cancelled so its important to work on that, maybe a software or additional section that mentions the reason for cancellation would be really very helpful to find insights.\n",
        "\n",
        "2.Top 10 countries to make hotel bookings are Portugal, United Kingdom, France,Spain, Germany, Ireland, Italy, Belgium, Netherlands & USA. From which, Portugal is the topmost country for hotel bookings.\n",
        "\n",
        "3.Most booking were made in the month of July and August which can be due to any offer of discount or holiday season so business owner needs to work on discount and other factor to know about the reason.\n",
        "\n",
        "4.Most of the booking were made of City Hotel which is about 61.1% whereas Resort hotel booking was only 38.9% that gives an idea that most people prefer City Hotels.\n",
        "\n",
        "5.Most popular/ordered meal was BB which gives an idea about which is the best dish to try at hotel for customers.\n",
        "\n",
        "6.Most of the reserved room was A, so need to increase type A room also need to work on other type of room as well which were preferred after A room.\n",
        "\n",
        "7.Most arriving customers are likely to come without children or babies, mostly couples visited the hotels(i.e. two adults).\n",
        "\n",
        "8.Most hotel cancellation booking can be seen in City Hotel.\n",
        "\n",
        "9.Count of repeated guests in both hotels are way less than total booking of hotel at first time.In Resort hotel count of repeated guests is slightly higher than City hotel.\n",
        "\n",
        "10.ADR is highest in month of August and was lowest in month of January, also ADR tends to be increased in end of month as compare to other days of month.\n",
        "\n",
        "11.TA/TO is the most used distribution channels through which bookings were done."
      ],
      "metadata": {
        "id": "pASKb0qOza21"
      }
    },
    {
      "cell_type": "markdown",
      "source": [
        "# **Conclusion**"
      ],
      "metadata": {
        "id": "gCX9965dhzqZ"
      }
    },
    {
      "cell_type": "markdown",
      "source": [
        "The conclusion drawn after data analysis are as follows:\n",
        "\n",
        "1.Booking were made from different country, but most of the booking were made by Portugal country.\n",
        "\n",
        "2.Most of the boooking were made of City Hotel which is about 61.1% whereas Resort hotel booking was only 38.9% that gives an idea that most people prefer City Hotels.\n",
        "\n",
        "3.Number of repeated guests are way less than total guests, Resort hotel have slightly high number of repeated guest as compare to City Hotels but overall repeated guests in both hotels are less.\n",
        "\n",
        "4.Most of the bookings were done in month of July-August, means this months are the businest or profitable months for hotel business.\n",
        "\n",
        "5.Most of the ordered/served/famous meal is BB(Bed & Breakfast),so need to work on quality and need to work on other dishes as well.\n",
        "\n",
        "6.Most of the reserved room was A, so need to increase type A room also need to work on other type of room as well.\n",
        "\n",
        "7.Most arriving customers are couple(mostly 2 adults) so need to work on other age group as well like children.\n",
        "\n",
        "8.Most cancellation of bookings is seen in City Hotel.\n",
        "\n",
        "9.There are in total 4 types of Customers, from which Transient type of customers are 82.4% followed by Transient-Party which is 13.4% and other two type Group with 0.6% and Contract 3.6%\n",
        "\n",
        "10.There are total 8 types of market segment but most preferred market segment by customer is Online TA.\n",
        "\n",
        "11.TA/TO is the most preferred distribution channel by customer compare to other channels.\n",
        "\n",
        "12.Most of the bookings are done through Agent 9.\n",
        "\n",
        "13.Most of the Customers prefer to stay maximum 4 days in hotels, more than 4 days are preferred by very less customers.\n",
        "\n",
        "14.ADR tends to increase with number of customers arrived per month, also it is seen that ADR increases at end of month."
      ],
      "metadata": {
        "id": "Fjb1IsQkh3yE"
      }
    },
    {
      "cell_type": "markdown",
      "source": [
        "### ***Hurrah! You have successfully completed your EDA Capstone Project !!!***"
      ],
      "metadata": {
        "id": "gIfDvo9L0UH2"
      }
    }
  ]
}